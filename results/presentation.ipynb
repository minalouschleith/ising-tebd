{
 "cells": [
  {
   "cell_type": "code",
   "execution_count": 1,
   "id": "69a230c0",
   "metadata": {},
   "outputs": [],
   "source": [
    "%load_ext autoreload\n",
    "%autoreload 2"
   ]
  },
  {
   "cell_type": "code",
   "execution_count": 2,
   "id": "27008159",
   "metadata": {},
   "outputs": [],
   "source": [
    "import sys\n",
    "sys.path.append('/Users/mina-lou/Desktop/Frank')\n",
    "import isingtebd "
   ]
  },
  {
   "cell_type": "code",
   "execution_count": 36,
   "id": "b2c40275",
   "metadata": {},
   "outputs": [],
   "source": [
    "Nx=3\n",
    "test_MPS = isingtebd.Initial_state(Nx)"
   ]
  },
  {
   "cell_type": "code",
   "execution_count": 37,
   "id": "a4102bc5",
   "metadata": {},
   "outputs": [
    {
     "name": "stdout",
     "output_type": "stream",
     "text": [
      "[array([[[1.],\n",
      "        [0.]]]), array([[[1.],\n",
      "        [0.]]]), array([[[1.],\n",
      "        [0.]]])]\n"
     ]
    }
   ],
   "source": [
    "print(test_MPS.Bs) "
   ]
  },
  {
   "cell_type": "code",
   "execution_count": 58,
   "id": "416bc14b",
   "metadata": {},
   "outputs": [
    {
     "name": "stdout",
     "output_type": "stream",
     "text": [
      "theta =   [[[[1.]\n",
      "   [0.]]\n",
      "\n",
      "  [[0.]\n",
      "   [0.]]]] thetashape =  (1, 2, 2, 1)\n"
     ]
    },
    {
     "ename": "IndexError",
     "evalue": "list index out of range",
     "output_type": "error",
     "traceback": [
      "\u001b[31m---------------------------------------------------------------------------\u001b[39m",
      "\u001b[31mIndexError\u001b[39m                                Traceback (most recent call last)",
      "\u001b[36mCell\u001b[39m\u001b[36m \u001b[39m\u001b[32mIn[58]\u001b[39m\u001b[32m, line 8\u001b[39m\n\u001b[32m      5\u001b[39m eps=\u001b[32m1\u001b[39m\n\u001b[32m      7\u001b[39m model_test = isingtebd.Ising_model(Nx, J, T, dt, chi_m, eps)\n\u001b[32m----> \u001b[39m\u001b[32m8\u001b[39m updated_state = \u001b[43misingtebd\u001b[49m\u001b[43m.\u001b[49m\u001b[43mupdate_bond\u001b[49m\u001b[43m(\u001b[49m\u001b[43mtest_MPS\u001b[49m\u001b[43m,\u001b[49m\u001b[43mmodel_test\u001b[49m\u001b[43m,\u001b[49m\u001b[32;43m2\u001b[39;49m\u001b[43m)\u001b[49m \n",
      "\u001b[36mFile \u001b[39m\u001b[32m<string>:8\u001b[39m, in \u001b[36mupdate_bond\u001b[39m\u001b[34m(psi, model, i)\u001b[39m\n",
      "\u001b[31mIndexError\u001b[39m: list index out of range"
     ]
    }
   ],
   "source": [
    "J=1\n",
    "T=10\n",
    "dt=1 \n",
    "chi_m=30\n",
    "eps=1\n",
    "\n",
    "model_test = isingtebd.Ising_model(Nx, J, T, dt, chi_m, eps)\n",
    "updated_state = isingtebd.update_bond(test_MPS,model_test,2) "
   ]
  },
  {
   "cell_type": "code",
   "execution_count": 49,
   "id": "1c2da011",
   "metadata": {},
   "outputs": [
    {
     "data": {
      "text/plain": [
       "5"
      ]
     },
     "execution_count": 49,
     "metadata": {},
     "output_type": "execute_result"
    }
   ],
   "source": [
    "WS = [1, 1, 1, 1, 1 ]\n",
    "len(WS)"
   ]
  },
  {
   "cell_type": "code",
   "execution_count": null,
   "id": "14e8ad05",
   "metadata": {},
   "outputs": [],
   "source": []
  }
 ],
 "metadata": {
  "kernelspec": {
   "display_name": ".venv",
   "language": "python",
   "name": "python3"
  },
  "language_info": {
   "codemirror_mode": {
    "name": "ipython",
    "version": 3
   },
   "file_extension": ".py",
   "mimetype": "text/x-python",
   "name": "python",
   "nbconvert_exporter": "python",
   "pygments_lexer": "ipython3",
   "version": "3.11.13"
  }
 },
 "nbformat": 4,
 "nbformat_minor": 5
}
